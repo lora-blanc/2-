{
 "cells": [
  {
   "cell_type": "code",
   "execution_count": 2,
   "metadata": {},
   "outputs": [],
   "source": [
    "import numpy as np\n",
    "import pandas as pd\n",
    "import matplotlib.pyplot as plt\n",
    "%matplotlib inline\n",
    "import seaborn as sns"
   ]
  },
  {
   "cell_type": "code",
   "execution_count": 3,
   "metadata": {},
   "outputs": [],
   "source": [
    "from sklearn.model_selection import train_test_split\n",
    "from sklearn.linear_model import LogisticRegression"
   ]
  },
  {
   "cell_type": "code",
   "execution_count": 4,
   "metadata": {},
   "outputs": [],
   "source": [
    "from sklearn.metrics import accuracy_score, precision_score, recall_score"
   ]
  },
  {
   "cell_type": "markdown",
   "metadata": {},
   "source": [
    "Загружаем и обрабатываем датасет"
   ]
  },
  {
   "cell_type": "code",
   "execution_count": 5,
   "metadata": {
    "scrolled": true
   },
   "outputs": [
    {
     "data": {
      "text/html": [
       "<div>\n",
       "<style scoped>\n",
       "    .dataframe tbody tr th:only-of-type {\n",
       "        vertical-align: middle;\n",
       "    }\n",
       "\n",
       "    .dataframe tbody tr th {\n",
       "        vertical-align: top;\n",
       "    }\n",
       "\n",
       "    .dataframe thead th {\n",
       "        text-align: right;\n",
       "    }\n",
       "</style>\n",
       "<table border=\"1\" class=\"dataframe\">\n",
       "  <thead>\n",
       "    <tr style=\"text-align: right;\">\n",
       "      <th></th>\n",
       "      <th>cwsac_id</th>\n",
       "      <th>battle_name</th>\n",
       "      <th>start_date</th>\n",
       "      <th>end_date</th>\n",
       "      <th>result</th>\n",
       "      <th>duration</th>\n",
       "      <th>casualities</th>\n",
       "      <th>preservation</th>\n",
       "      <th>significance</th>\n",
       "      <th>study_area</th>\n",
       "      <th>core_area</th>\n",
       "      <th>potnr_boundary</th>\n",
       "      <th>significance_ed</th>\n",
       "      <th>battle_type</th>\n",
       "      <th>lat</th>\n",
       "      <th>long</th>\n",
       "      <th>state</th>\n",
       "      <th>casualties_kwm_var</th>\n",
       "    </tr>\n",
       "  </thead>\n",
       "  <tbody>\n",
       "    <tr>\n",
       "      <th>0</th>\n",
       "      <td>AL001</td>\n",
       "      <td>Day's Gap</td>\n",
       "      <td>1863-04-30</td>\n",
       "      <td>1863-04-30</td>\n",
       "      <td>Union</td>\n",
       "      <td>1.0</td>\n",
       "      <td>88.0</td>\n",
       "      <td>III.3</td>\n",
       "      <td>C</td>\n",
       "      <td>5410.35</td>\n",
       "      <td>1084.76</td>\n",
       "      <td>2933.02</td>\n",
       "      <td>D</td>\n",
       "      <td>Action</td>\n",
       "      <td>34.3096</td>\n",
       "      <td>-87.0110</td>\n",
       "      <td>AL</td>\n",
       "      <td>0.166667</td>\n",
       "    </tr>\n",
       "    <tr>\n",
       "      <th>1</th>\n",
       "      <td>AL002</td>\n",
       "      <td>Athens</td>\n",
       "      <td>1864-01-26</td>\n",
       "      <td>1864-01-26</td>\n",
       "      <td>Union</td>\n",
       "      <td>1.0</td>\n",
       "      <td>50.0</td>\n",
       "      <td>IV.1</td>\n",
       "      <td>D</td>\n",
       "      <td>21919.82</td>\n",
       "      <td>2274.85</td>\n",
       "      <td>2998.41</td>\n",
       "      <td>D</td>\n",
       "      <td>Attack</td>\n",
       "      <td>34.8033</td>\n",
       "      <td>-86.9722</td>\n",
       "      <td>AL</td>\n",
       "      <td>16.666667</td>\n",
       "    </tr>\n",
       "    <tr>\n",
       "      <th>2</th>\n",
       "      <td>AL003</td>\n",
       "      <td>Mobile Bay</td>\n",
       "      <td>1864-08-02</td>\n",
       "      <td>1864-08-23</td>\n",
       "      <td>Union</td>\n",
       "      <td>22.0</td>\n",
       "      <td>1822.0</td>\n",
       "      <td>I.1</td>\n",
       "      <td>A</td>\n",
       "      <td>36916.74</td>\n",
       "      <td>16130.48</td>\n",
       "      <td>34927.42</td>\n",
       "      <td>NaN</td>\n",
       "      <td>Naval Operations</td>\n",
       "      <td>30.2410</td>\n",
       "      <td>-88.0530</td>\n",
       "      <td>AL</td>\n",
       "      <td>833.416667</td>\n",
       "    </tr>\n",
       "    <tr>\n",
       "      <th>3</th>\n",
       "      <td>AL004</td>\n",
       "      <td>Decatur</td>\n",
       "      <td>1864-10-26</td>\n",
       "      <td>1864-10-29</td>\n",
       "      <td>Union</td>\n",
       "      <td>4.0</td>\n",
       "      <td>605.0</td>\n",
       "      <td>IV.2</td>\n",
       "      <td>C</td>\n",
       "      <td>14623.51</td>\n",
       "      <td>1148.87</td>\n",
       "      <td>0.00</td>\n",
       "      <td>C</td>\n",
       "      <td>Demonstration</td>\n",
       "      <td>34.6140</td>\n",
       "      <td>-86.9860</td>\n",
       "      <td>AL</td>\n",
       "      <td>833.416667</td>\n",
       "    </tr>\n",
       "    <tr>\n",
       "      <th>4</th>\n",
       "      <td>AL005</td>\n",
       "      <td>Spanish Fort</td>\n",
       "      <td>1865-03-27</td>\n",
       "      <td>1865-04-08</td>\n",
       "      <td>Union</td>\n",
       "      <td>12.0</td>\n",
       "      <td>1401.0</td>\n",
       "      <td>IV.2</td>\n",
       "      <td>B</td>\n",
       "      <td>3742.16</td>\n",
       "      <td>2282.27</td>\n",
       "      <td>0.00</td>\n",
       "      <td>B</td>\n",
       "      <td>Siege &amp; Capture</td>\n",
       "      <td>30.6843</td>\n",
       "      <td>-87.9164</td>\n",
       "      <td>AL</td>\n",
       "      <td>0.166667</td>\n",
       "    </tr>\n",
       "  </tbody>\n",
       "</table>\n",
       "</div>"
      ],
      "text/plain": [
       "  cwsac_id   battle_name  start_date    end_date result  duration  \\\n",
       "0    AL001     Day's Gap  1863-04-30  1863-04-30  Union       1.0   \n",
       "1    AL002        Athens  1864-01-26  1864-01-26  Union       1.0   \n",
       "2    AL003    Mobile Bay  1864-08-02  1864-08-23  Union      22.0   \n",
       "3    AL004       Decatur  1864-10-26  1864-10-29  Union       4.0   \n",
       "4    AL005  Spanish Fort  1865-03-27  1865-04-08  Union      12.0   \n",
       "\n",
       "   casualities preservation significance  study_area  core_area  \\\n",
       "0         88.0        III.3            C     5410.35    1084.76   \n",
       "1         50.0         IV.1            D    21919.82    2274.85   \n",
       "2       1822.0          I.1            A    36916.74   16130.48   \n",
       "3        605.0         IV.2            C    14623.51    1148.87   \n",
       "4       1401.0         IV.2            B     3742.16    2282.27   \n",
       "\n",
       "   potnr_boundary significance_ed       battle_type      lat     long state  \\\n",
       "0         2933.02               D            Action  34.3096 -87.0110    AL   \n",
       "1         2998.41               D            Attack  34.8033 -86.9722    AL   \n",
       "2        34927.42             NaN  Naval Operations  30.2410 -88.0530    AL   \n",
       "3            0.00               C     Demonstration  34.6140 -86.9860    AL   \n",
       "4            0.00               B   Siege & Capture  30.6843 -87.9164    AL   \n",
       "\n",
       "   casualties_kwm_var  \n",
       "0            0.166667  \n",
       "1           16.666667  \n",
       "2          833.416667  \n",
       "3          833.416667  \n",
       "4            0.166667  "
      ]
     },
     "execution_count": 5,
     "metadata": {},
     "output_type": "execute_result"
    }
   ],
   "source": [
    "data= pd.read_csv('civil_war_battles.csv')\n",
    "data.head()"
   ]
  },
  {
   "cell_type": "code",
   "execution_count": 6,
   "metadata": {
    "scrolled": true
   },
   "outputs": [
    {
     "name": "stdout",
     "output_type": "stream",
     "text": [
      "<class 'pandas.core.frame.DataFrame'>\n",
      "RangeIndex: 381 entries, 0 to 380\n",
      "Data columns (total 18 columns):\n",
      "cwsac_id              381 non-null object\n",
      "battle_name           381 non-null object\n",
      "start_date            381 non-null object\n",
      "end_date              381 non-null object\n",
      "result                381 non-null object\n",
      "duration              380 non-null float64\n",
      "casualities           357 non-null float64\n",
      "preservation          369 non-null object\n",
      "significance          381 non-null object\n",
      "study_area            379 non-null float64\n",
      "core_area             379 non-null float64\n",
      "potnr_boundary        358 non-null float64\n",
      "significance_ed       264 non-null object\n",
      "battle_type           381 non-null object\n",
      "lat                   381 non-null float64\n",
      "long                  381 non-null float64\n",
      "state                 381 non-null object\n",
      "casualties_kwm_var    344 non-null float64\n",
      "dtypes: float64(8), object(10)\n",
      "memory usage: 53.7+ KB\n"
     ]
    }
   ],
   "source": [
    "data.info()"
   ]
  },
  {
   "cell_type": "code",
   "execution_count": 7,
   "metadata": {},
   "outputs": [
    {
     "data": {
      "text/plain": [
       "cwsac_id                0\n",
       "battle_name             0\n",
       "start_date              0\n",
       "end_date                0\n",
       "result                  0\n",
       "duration                1\n",
       "casualities            24\n",
       "preservation           12\n",
       "significance            0\n",
       "study_area              2\n",
       "core_area               2\n",
       "potnr_boundary         23\n",
       "significance_ed       117\n",
       "battle_type             0\n",
       "lat                     0\n",
       "long                    0\n",
       "state                   0\n",
       "casualties_kwm_var     37\n",
       "dtype: int64"
      ]
     },
     "execution_count": 7,
     "metadata": {},
     "output_type": "execute_result"
    }
   ],
   "source": [
    "data.isnull().sum()"
   ]
  },
  {
   "cell_type": "code",
   "execution_count": 8,
   "metadata": {},
   "outputs": [],
   "source": [
    "data2 = data.copy()"
   ]
  },
  {
   "cell_type": "code",
   "execution_count": 9,
   "metadata": {},
   "outputs": [],
   "source": [
    "data2 = data.drop(['significance_ed','preservation','casualties_kwm_var'], axis=1)"
   ]
  },
  {
   "cell_type": "code",
   "execution_count": 10,
   "metadata": {},
   "outputs": [
    {
     "data": {
      "text/plain": [
       "cwsac_id           0\n",
       "battle_name        0\n",
       "start_date         0\n",
       "end_date           0\n",
       "result             0\n",
       "duration           1\n",
       "casualities       24\n",
       "significance       0\n",
       "study_area         2\n",
       "core_area          2\n",
       "potnr_boundary    23\n",
       "battle_type        0\n",
       "lat                0\n",
       "long               0\n",
       "state              0\n",
       "dtype: int64"
      ]
     },
     "execution_count": 10,
     "metadata": {},
     "output_type": "execute_result"
    }
   ],
   "source": [
    "data2.isnull().sum()"
   ]
  },
  {
   "cell_type": "code",
   "execution_count": 11,
   "metadata": {},
   "outputs": [
    {
     "data": {
      "text/html": [
       "<div>\n",
       "<style scoped>\n",
       "    .dataframe tbody tr th:only-of-type {\n",
       "        vertical-align: middle;\n",
       "    }\n",
       "\n",
       "    .dataframe tbody tr th {\n",
       "        vertical-align: top;\n",
       "    }\n",
       "\n",
       "    .dataframe thead th {\n",
       "        text-align: right;\n",
       "    }\n",
       "</style>\n",
       "<table border=\"1\" class=\"dataframe\">\n",
       "  <thead>\n",
       "    <tr style=\"text-align: right;\">\n",
       "      <th></th>\n",
       "      <th>cwsac_id</th>\n",
       "      <th>battle_name</th>\n",
       "      <th>start_date</th>\n",
       "      <th>end_date</th>\n",
       "      <th>result</th>\n",
       "      <th>duration</th>\n",
       "      <th>casualities</th>\n",
       "      <th>significance</th>\n",
       "      <th>study_area</th>\n",
       "      <th>core_area</th>\n",
       "      <th>potnr_boundary</th>\n",
       "      <th>battle_type</th>\n",
       "      <th>lat</th>\n",
       "      <th>long</th>\n",
       "      <th>state</th>\n",
       "    </tr>\n",
       "  </thead>\n",
       "  <tbody>\n",
       "    <tr>\n",
       "      <th>0</th>\n",
       "      <td>AL001</td>\n",
       "      <td>Day's Gap</td>\n",
       "      <td>1863-04-30</td>\n",
       "      <td>1863-04-30</td>\n",
       "      <td>Union</td>\n",
       "      <td>1.0</td>\n",
       "      <td>88.0</td>\n",
       "      <td>C</td>\n",
       "      <td>5410.35</td>\n",
       "      <td>1084.76</td>\n",
       "      <td>2933.02</td>\n",
       "      <td>Action</td>\n",
       "      <td>34.3096</td>\n",
       "      <td>-87.0110</td>\n",
       "      <td>AL</td>\n",
       "    </tr>\n",
       "    <tr>\n",
       "      <th>1</th>\n",
       "      <td>AL002</td>\n",
       "      <td>Athens</td>\n",
       "      <td>1864-01-26</td>\n",
       "      <td>1864-01-26</td>\n",
       "      <td>Union</td>\n",
       "      <td>1.0</td>\n",
       "      <td>50.0</td>\n",
       "      <td>D</td>\n",
       "      <td>21919.82</td>\n",
       "      <td>2274.85</td>\n",
       "      <td>2998.41</td>\n",
       "      <td>Attack</td>\n",
       "      <td>34.8033</td>\n",
       "      <td>-86.9722</td>\n",
       "      <td>AL</td>\n",
       "    </tr>\n",
       "    <tr>\n",
       "      <th>2</th>\n",
       "      <td>AL003</td>\n",
       "      <td>Mobile Bay</td>\n",
       "      <td>1864-08-02</td>\n",
       "      <td>1864-08-23</td>\n",
       "      <td>Union</td>\n",
       "      <td>22.0</td>\n",
       "      <td>1822.0</td>\n",
       "      <td>A</td>\n",
       "      <td>36916.74</td>\n",
       "      <td>16130.48</td>\n",
       "      <td>34927.42</td>\n",
       "      <td>Naval Operations</td>\n",
       "      <td>30.2410</td>\n",
       "      <td>-88.0530</td>\n",
       "      <td>AL</td>\n",
       "    </tr>\n",
       "    <tr>\n",
       "      <th>3</th>\n",
       "      <td>AL004</td>\n",
       "      <td>Decatur</td>\n",
       "      <td>1864-10-26</td>\n",
       "      <td>1864-10-29</td>\n",
       "      <td>Union</td>\n",
       "      <td>4.0</td>\n",
       "      <td>605.0</td>\n",
       "      <td>C</td>\n",
       "      <td>14623.51</td>\n",
       "      <td>1148.87</td>\n",
       "      <td>0.00</td>\n",
       "      <td>Demonstration</td>\n",
       "      <td>34.6140</td>\n",
       "      <td>-86.9860</td>\n",
       "      <td>AL</td>\n",
       "    </tr>\n",
       "    <tr>\n",
       "      <th>4</th>\n",
       "      <td>AL005</td>\n",
       "      <td>Spanish Fort</td>\n",
       "      <td>1865-03-27</td>\n",
       "      <td>1865-04-08</td>\n",
       "      <td>Union</td>\n",
       "      <td>12.0</td>\n",
       "      <td>1401.0</td>\n",
       "      <td>B</td>\n",
       "      <td>3742.16</td>\n",
       "      <td>2282.27</td>\n",
       "      <td>0.00</td>\n",
       "      <td>Siege &amp; Capture</td>\n",
       "      <td>30.6843</td>\n",
       "      <td>-87.9164</td>\n",
       "      <td>AL</td>\n",
       "    </tr>\n",
       "  </tbody>\n",
       "</table>\n",
       "</div>"
      ],
      "text/plain": [
       "  cwsac_id   battle_name  start_date    end_date result  duration  \\\n",
       "0    AL001     Day's Gap  1863-04-30  1863-04-30  Union       1.0   \n",
       "1    AL002        Athens  1864-01-26  1864-01-26  Union       1.0   \n",
       "2    AL003    Mobile Bay  1864-08-02  1864-08-23  Union      22.0   \n",
       "3    AL004       Decatur  1864-10-26  1864-10-29  Union       4.0   \n",
       "4    AL005  Spanish Fort  1865-03-27  1865-04-08  Union      12.0   \n",
       "\n",
       "   casualities significance  study_area  core_area  potnr_boundary  \\\n",
       "0         88.0            C     5410.35    1084.76         2933.02   \n",
       "1         50.0            D    21919.82    2274.85         2998.41   \n",
       "2       1822.0            A    36916.74   16130.48        34927.42   \n",
       "3        605.0            C    14623.51    1148.87            0.00   \n",
       "4       1401.0            B     3742.16    2282.27            0.00   \n",
       "\n",
       "        battle_type      lat     long state  \n",
       "0            Action  34.3096 -87.0110    AL  \n",
       "1            Attack  34.8033 -86.9722    AL  \n",
       "2  Naval Operations  30.2410 -88.0530    AL  \n",
       "3     Demonstration  34.6140 -86.9860    AL  \n",
       "4   Siege & Capture  30.6843 -87.9164    AL  "
      ]
     },
     "execution_count": 11,
     "metadata": {},
     "output_type": "execute_result"
    }
   ],
   "source": [
    "data2 = data2.dropna(how='any')\n",
    "data2.head()"
   ]
  },
  {
   "cell_type": "code",
   "execution_count": 12,
   "metadata": {},
   "outputs": [
    {
     "name": "stdout",
     "output_type": "stream",
     "text": [
      "<class 'pandas.core.frame.DataFrame'>\n",
      "Int64Index: 334 entries, 0 to 379\n",
      "Data columns (total 15 columns):\n",
      "cwsac_id          334 non-null object\n",
      "battle_name       334 non-null object\n",
      "start_date        334 non-null object\n",
      "end_date          334 non-null object\n",
      "result            334 non-null object\n",
      "duration          334 non-null float64\n",
      "casualities       334 non-null float64\n",
      "significance      334 non-null object\n",
      "study_area        334 non-null float64\n",
      "core_area         334 non-null float64\n",
      "potnr_boundary    334 non-null float64\n",
      "battle_type       334 non-null object\n",
      "lat               334 non-null float64\n",
      "long              334 non-null float64\n",
      "state             334 non-null object\n",
      "dtypes: float64(7), object(8)\n",
      "memory usage: 41.8+ KB\n"
     ]
    }
   ],
   "source": [
    "data2.info()"
   ]
  },
  {
   "cell_type": "markdown",
   "metadata": {},
   "source": [
    "Чуть-чуть попыток построить красивые графики"
   ]
  },
  {
   "cell_type": "code",
   "execution_count": 13,
   "metadata": {},
   "outputs": [
    {
     "data": {
      "text/plain": [
       "<matplotlib.axes._subplots.AxesSubplot at 0x2deb5e6cf28>"
      ]
     },
     "execution_count": 13,
     "metadata": {},
     "output_type": "execute_result"
    },
    {
     "data": {
      "image/png": "[encoded data removed]",
      "text/plain": [
       "<Figure size 720x720 with 1 Axes>"
      ]
     },
     "metadata": {},
     "output_type": "display_data"
    }
   ],
   "source": [
    "plt.figure(figsize=(10, 10))\n",
    "sns.countplot(x='significance', hue='result', data=data2, palette='prism')"
   ]
  },
  {
   "cell_type": "code",
   "execution_count": 14,
   "metadata": {},
   "outputs": [
    {
     "data": {
      "image/png": "[encoded data removed]",
      "text/plain": [
       "<Figure size 504x324 with 2 Axes>"
      ]
     },
     "metadata": {},
     "output_type": "display_data"
    }
   ],
   "source": [
    "plt.figure(figsize=(7, 4.5))\n",
    "sns.heatmap(data2.corr(), annot=True, cmap='icefire')\n",
    "plt.savefig('cmap.png')"
   ]
  },
  {
   "cell_type": "code",
   "execution_count": 15,
   "metadata": {},
   "outputs": [],
   "source": [
    "data2 = data2.drop(['potnr_boundary'], axis=1)"
   ]
  },
  {
   "cell_type": "code",
   "execution_count": 16,
   "metadata": {},
   "outputs": [
    {
     "data": {
      "text/html": [
       "<div>\n",
       "<style scoped>\n",
       "    .dataframe tbody tr th:only-of-type {\n",
       "        vertical-align: middle;\n",
       "    }\n",
       "\n",
       "    .dataframe tbody tr th {\n",
       "        vertical-align: top;\n",
       "    }\n",
       "\n",
       "    .dataframe thead th {\n",
       "        text-align: right;\n",
       "    }\n",
       "</style>\n",
       "<table border=\"1\" class=\"dataframe\">\n",
       "  <thead>\n",
       "    <tr style=\"text-align: right;\">\n",
       "      <th></th>\n",
       "      <th>cwsac_id</th>\n",
       "      <th>battle_name</th>\n",
       "      <th>start_date</th>\n",
       "      <th>end_date</th>\n",
       "      <th>result</th>\n",
       "      <th>duration</th>\n",
       "      <th>casualities</th>\n",
       "      <th>significance</th>\n",
       "      <th>study_area</th>\n",
       "      <th>core_area</th>\n",
       "      <th>battle_type</th>\n",
       "      <th>lat</th>\n",
       "      <th>long</th>\n",
       "      <th>state</th>\n",
       "    </tr>\n",
       "  </thead>\n",
       "  <tbody>\n",
       "    <tr>\n",
       "      <th>0</th>\n",
       "      <td>AL001</td>\n",
       "      <td>Day's Gap</td>\n",
       "      <td>1863-04-30</td>\n",
       "      <td>1863-04-30</td>\n",
       "      <td>Union</td>\n",
       "      <td>1.0</td>\n",
       "      <td>88.0</td>\n",
       "      <td>C</td>\n",
       "      <td>5410.35</td>\n",
       "      <td>1084.76</td>\n",
       "      <td>Action</td>\n",
       "      <td>34.3096</td>\n",
       "      <td>-87.0110</td>\n",
       "      <td>AL</td>\n",
       "    </tr>\n",
       "    <tr>\n",
       "      <th>1</th>\n",
       "      <td>AL002</td>\n",
       "      <td>Athens</td>\n",
       "      <td>1864-01-26</td>\n",
       "      <td>1864-01-26</td>\n",
       "      <td>Union</td>\n",
       "      <td>1.0</td>\n",
       "      <td>50.0</td>\n",
       "      <td>D</td>\n",
       "      <td>21919.82</td>\n",
       "      <td>2274.85</td>\n",
       "      <td>Attack</td>\n",
       "      <td>34.8033</td>\n",
       "      <td>-86.9722</td>\n",
       "      <td>AL</td>\n",
       "    </tr>\n",
       "    <tr>\n",
       "      <th>2</th>\n",
       "      <td>AL003</td>\n",
       "      <td>Mobile Bay</td>\n",
       "      <td>1864-08-02</td>\n",
       "      <td>1864-08-23</td>\n",
       "      <td>Union</td>\n",
       "      <td>22.0</td>\n",
       "      <td>1822.0</td>\n",
       "      <td>A</td>\n",
       "      <td>36916.74</td>\n",
       "      <td>16130.48</td>\n",
       "      <td>Naval Operations</td>\n",
       "      <td>30.2410</td>\n",
       "      <td>-88.0530</td>\n",
       "      <td>AL</td>\n",
       "    </tr>\n",
       "    <tr>\n",
       "      <th>3</th>\n",
       "      <td>AL004</td>\n",
       "      <td>Decatur</td>\n",
       "      <td>1864-10-26</td>\n",
       "      <td>1864-10-29</td>\n",
       "      <td>Union</td>\n",
       "      <td>4.0</td>\n",
       "      <td>605.0</td>\n",
       "      <td>C</td>\n",
       "      <td>14623.51</td>\n",
       "      <td>1148.87</td>\n",
       "      <td>Demonstration</td>\n",
       "      <td>34.6140</td>\n",
       "      <td>-86.9860</td>\n",
       "      <td>AL</td>\n",
       "    </tr>\n",
       "    <tr>\n",
       "      <th>4</th>\n",
       "      <td>AL005</td>\n",
       "      <td>Spanish Fort</td>\n",
       "      <td>1865-03-27</td>\n",
       "      <td>1865-04-08</td>\n",
       "      <td>Union</td>\n",
       "      <td>12.0</td>\n",
       "      <td>1401.0</td>\n",
       "      <td>B</td>\n",
       "      <td>3742.16</td>\n",
       "      <td>2282.27</td>\n",
       "      <td>Siege &amp; Capture</td>\n",
       "      <td>30.6843</td>\n",
       "      <td>-87.9164</td>\n",
       "      <td>AL</td>\n",
       "    </tr>\n",
       "  </tbody>\n",
       "</table>\n",
       "</div>"
      ],
      "text/plain": [
       "  cwsac_id   battle_name  start_date    end_date result  duration  \\\n",
       "0    AL001     Day's Gap  1863-04-30  1863-04-30  Union       1.0   \n",
       "1    AL002        Athens  1864-01-26  1864-01-26  Union       1.0   \n",
       "2    AL003    Mobile Bay  1864-08-02  1864-08-23  Union      22.0   \n",
       "3    AL004       Decatur  1864-10-26  1864-10-29  Union       4.0   \n",
       "4    AL005  Spanish Fort  1865-03-27  1865-04-08  Union      12.0   \n",
       "\n",
       "   casualities significance  study_area  core_area       battle_type      lat  \\\n",
       "0         88.0            C     5410.35    1084.76            Action  34.3096   \n",
       "1         50.0            D    21919.82    2274.85            Attack  34.8033   \n",
       "2       1822.0            A    36916.74   16130.48  Naval Operations  30.2410   \n",
       "3        605.0            C    14623.51    1148.87     Demonstration  34.6140   \n",
       "4       1401.0            B     3742.16    2282.27   Siege & Capture  30.6843   \n",
       "\n",
       "      long state  \n",
       "0 -87.0110    AL  \n",
       "1 -86.9722    AL  \n",
       "2 -88.0530    AL  \n",
       "3 -86.9860    AL  \n",
       "4 -87.9164    AL  "
      ]
     },
     "execution_count": 16,
     "metadata": {},
     "output_type": "execute_result"
    }
   ],
   "source": [
    "data2.head()"
   ]
  },
  {
   "cell_type": "code",
   "execution_count": 17,
   "metadata": {},
   "outputs": [
    {
     "data": {
      "text/html": [
       "<div>\n",
       "<style scoped>\n",
       "    .dataframe tbody tr th:only-of-type {\n",
       "        vertical-align: middle;\n",
       "    }\n",
       "\n",
       "    .dataframe tbody tr th {\n",
       "        vertical-align: top;\n",
       "    }\n",
       "\n",
       "    .dataframe thead th {\n",
       "        text-align: right;\n",
       "    }\n",
       "</style>\n",
       "<table border=\"1\" class=\"dataframe\">\n",
       "  <thead>\n",
       "    <tr style=\"text-align: right;\">\n",
       "      <th></th>\n",
       "      <th>duration</th>\n",
       "      <th>casualities</th>\n",
       "      <th>study_area</th>\n",
       "      <th>core_area</th>\n",
       "      <th>lat</th>\n",
       "      <th>long</th>\n",
       "    </tr>\n",
       "  </thead>\n",
       "  <tbody>\n",
       "    <tr>\n",
       "      <th>count</th>\n",
       "      <td>334.00</td>\n",
       "      <td>334.00</td>\n",
       "      <td>334.00</td>\n",
       "      <td>334.00</td>\n",
       "      <td>334.00</td>\n",
       "      <td>334.00</td>\n",
       "    </tr>\n",
       "    <tr>\n",
       "      <th>mean</th>\n",
       "      <td>2.59</td>\n",
       "      <td>2527.51</td>\n",
       "      <td>9796.61</td>\n",
       "      <td>2918.60</td>\n",
       "      <td>36.22</td>\n",
       "      <td>-84.05</td>\n",
       "    </tr>\n",
       "    <tr>\n",
       "      <th>std</th>\n",
       "      <td>5.24</td>\n",
       "      <td>5536.85</td>\n",
       "      <td>9487.33</td>\n",
       "      <td>6591.85</td>\n",
       "      <td>3.05</td>\n",
       "      <td>7.02</td>\n",
       "    </tr>\n",
       "    <tr>\n",
       "      <th>min</th>\n",
       "      <td>1.00</td>\n",
       "      <td>0.00</td>\n",
       "      <td>564.83</td>\n",
       "      <td>59.53</td>\n",
       "      <td>25.95</td>\n",
       "      <td>-111.91</td>\n",
       "    </tr>\n",
       "    <tr>\n",
       "      <th>25%</th>\n",
       "      <td>1.00</td>\n",
       "      <td>221.25</td>\n",
       "      <td>3742.92</td>\n",
       "      <td>720.62</td>\n",
       "      <td>34.33</td>\n",
       "      <td>-90.51</td>\n",
       "    </tr>\n",
       "    <tr>\n",
       "      <th>50%</th>\n",
       "      <td>1.00</td>\n",
       "      <td>662.50</td>\n",
       "      <td>6981.28</td>\n",
       "      <td>1664.15</td>\n",
       "      <td>37.07</td>\n",
       "      <td>-81.77</td>\n",
       "    </tr>\n",
       "    <tr>\n",
       "      <th>75%</th>\n",
       "      <td>2.00</td>\n",
       "      <td>2000.00</td>\n",
       "      <td>11946.81</td>\n",
       "      <td>3108.08</td>\n",
       "      <td>38.30</td>\n",
       "      <td>-77.69</td>\n",
       "    </tr>\n",
       "    <tr>\n",
       "      <th>max</th>\n",
       "      <td>48.00</td>\n",
       "      <td>51000.00</td>\n",
       "      <td>63960.79</td>\n",
       "      <td>87875.32</td>\n",
       "      <td>47.43</td>\n",
       "      <td>-75.67</td>\n",
       "    </tr>\n",
       "  </tbody>\n",
       "</table>\n",
       "</div>"
      ],
      "text/plain": [
       "       duration  casualities  study_area  core_area     lat    long\n",
       "count    334.00       334.00      334.00     334.00  334.00  334.00\n",
       "mean       2.59      2527.51     9796.61    2918.60   36.22  -84.05\n",
       "std        5.24      5536.85     9487.33    6591.85    3.05    7.02\n",
       "min        1.00         0.00      564.83      59.53   25.95 -111.91\n",
       "25%        1.00       221.25     3742.92     720.62   34.33  -90.51\n",
       "50%        1.00       662.50     6981.28    1664.15   37.07  -81.77\n",
       "75%        2.00      2000.00    11946.81    3108.08   38.30  -77.69\n",
       "max       48.00     51000.00    63960.79   87875.32   47.43  -75.67"
      ]
     },
     "execution_count": 17,
     "metadata": {},
     "output_type": "execute_result"
    }
   ],
   "source": [
    "data2.describe().round(2) # твбличка с описательными статистиками, округленными до 2 знаков после запятой"
   ]
  },
  {
   "cell_type": "code",
   "execution_count": 18,
   "metadata": {},
   "outputs": [],
   "source": [
    "significance_dict = {\n",
    "    'A' : 4,\n",
    "    'B' : 3,\n",
    "    'C' : 2,\n",
    "    'D' : 1,\n",
    "} # делаем порядковый признак пригодным для того, чтобы засунуть его в классификационную модель"
   ]
  },
  {
   "cell_type": "code",
   "execution_count": 19,
   "metadata": {},
   "outputs": [],
   "source": [
    "data2.significance = data.significance.replace(to_replace=significance_dict)"
   ]
  },
  {
   "cell_type": "code",
   "execution_count": 20,
   "metadata": {},
   "outputs": [
    {
     "data": {
      "text/html": [
       "<div>\n",
       "<style scoped>\n",
       "    .dataframe tbody tr th:only-of-type {\n",
       "        vertical-align: middle;\n",
       "    }\n",
       "\n",
       "    .dataframe tbody tr th {\n",
       "        vertical-align: top;\n",
       "    }\n",
       "\n",
       "    .dataframe thead th {\n",
       "        text-align: right;\n",
       "    }\n",
       "</style>\n",
       "<table border=\"1\" class=\"dataframe\">\n",
       "  <thead>\n",
       "    <tr style=\"text-align: right;\">\n",
       "      <th></th>\n",
       "      <th>cwsac_id</th>\n",
       "      <th>battle_name</th>\n",
       "      <th>start_date</th>\n",
       "      <th>end_date</th>\n",
       "      <th>result</th>\n",
       "      <th>duration</th>\n",
       "      <th>casualities</th>\n",
       "      <th>significance</th>\n",
       "      <th>study_area</th>\n",
       "      <th>core_area</th>\n",
       "      <th>battle_type</th>\n",
       "      <th>lat</th>\n",
       "      <th>long</th>\n",
       "      <th>state</th>\n",
       "    </tr>\n",
       "  </thead>\n",
       "  <tbody>\n",
       "    <tr>\n",
       "      <th>0</th>\n",
       "      <td>AL001</td>\n",
       "      <td>Day's Gap</td>\n",
       "      <td>1863-04-30</td>\n",
       "      <td>1863-04-30</td>\n",
       "      <td>Union</td>\n",
       "      <td>1.0</td>\n",
       "      <td>88.0</td>\n",
       "      <td>2</td>\n",
       "      <td>5410.35</td>\n",
       "      <td>1084.76</td>\n",
       "      <td>Action</td>\n",
       "      <td>34.3096</td>\n",
       "      <td>-87.0110</td>\n",
       "      <td>AL</td>\n",
       "    </tr>\n",
       "    <tr>\n",
       "      <th>1</th>\n",
       "      <td>AL002</td>\n",
       "      <td>Athens</td>\n",
       "      <td>1864-01-26</td>\n",
       "      <td>1864-01-26</td>\n",
       "      <td>Union</td>\n",
       "      <td>1.0</td>\n",
       "      <td>50.0</td>\n",
       "      <td>1</td>\n",
       "      <td>21919.82</td>\n",
       "      <td>2274.85</td>\n",
       "      <td>Attack</td>\n",
       "      <td>34.8033</td>\n",
       "      <td>-86.9722</td>\n",
       "      <td>AL</td>\n",
       "    </tr>\n",
       "    <tr>\n",
       "      <th>2</th>\n",
       "      <td>AL003</td>\n",
       "      <td>Mobile Bay</td>\n",
       "      <td>1864-08-02</td>\n",
       "      <td>1864-08-23</td>\n",
       "      <td>Union</td>\n",
       "      <td>22.0</td>\n",
       "      <td>1822.0</td>\n",
       "      <td>4</td>\n",
       "      <td>36916.74</td>\n",
       "      <td>16130.48</td>\n",
       "      <td>Naval Operations</td>\n",
       "      <td>30.2410</td>\n",
       "      <td>-88.0530</td>\n",
       "      <td>AL</td>\n",
       "    </tr>\n",
       "    <tr>\n",
       "      <th>3</th>\n",
       "      <td>AL004</td>\n",
       "      <td>Decatur</td>\n",
       "      <td>1864-10-26</td>\n",
       "      <td>1864-10-29</td>\n",
       "      <td>Union</td>\n",
       "      <td>4.0</td>\n",
       "      <td>605.0</td>\n",
       "      <td>2</td>\n",
       "      <td>14623.51</td>\n",
       "      <td>1148.87</td>\n",
       "      <td>Demonstration</td>\n",
       "      <td>34.6140</td>\n",
       "      <td>-86.9860</td>\n",
       "      <td>AL</td>\n",
       "    </tr>\n",
       "    <tr>\n",
       "      <th>4</th>\n",
       "      <td>AL005</td>\n",
       "      <td>Spanish Fort</td>\n",
       "      <td>1865-03-27</td>\n",
       "      <td>1865-04-08</td>\n",
       "      <td>Union</td>\n",
       "      <td>12.0</td>\n",
       "      <td>1401.0</td>\n",
       "      <td>3</td>\n",
       "      <td>3742.16</td>\n",
       "      <td>2282.27</td>\n",
       "      <td>Siege &amp; Capture</td>\n",
       "      <td>30.6843</td>\n",
       "      <td>-87.9164</td>\n",
       "      <td>AL</td>\n",
       "    </tr>\n",
       "  </tbody>\n",
       "</table>\n",
       "</div>"
      ],
      "text/plain": [
       "  cwsac_id   battle_name  start_date    end_date result  duration  \\\n",
       "0    AL001     Day's Gap  1863-04-30  1863-04-30  Union       1.0   \n",
       "1    AL002        Athens  1864-01-26  1864-01-26  Union       1.0   \n",
       "2    AL003    Mobile Bay  1864-08-02  1864-08-23  Union      22.0   \n",
       "3    AL004       Decatur  1864-10-26  1864-10-29  Union       4.0   \n",
       "4    AL005  Spanish Fort  1865-03-27  1865-04-08  Union      12.0   \n",
       "\n",
       "   casualities  significance  study_area  core_area       battle_type  \\\n",
       "0         88.0             2     5410.35    1084.76            Action   \n",
       "1         50.0             1    21919.82    2274.85            Attack   \n",
       "2       1822.0             4    36916.74   16130.48  Naval Operations   \n",
       "3        605.0             2    14623.51    1148.87     Demonstration   \n",
       "4       1401.0             3     3742.16    2282.27   Siege & Capture   \n",
       "\n",
       "       lat     long state  \n",
       "0  34.3096 -87.0110    AL  \n",
       "1  34.8033 -86.9722    AL  \n",
       "2  30.2410 -88.0530    AL  \n",
       "3  34.6140 -86.9860    AL  \n",
       "4  30.6843 -87.9164    AL  "
      ]
     },
     "execution_count": 20,
     "metadata": {},
     "output_type": "execute_result"
    }
   ],
   "source": [
    "data2.head() "
   ]
  },
  {
   "cell_type": "markdown",
   "metadata": {},
   "source": [
    "Очень много классификационных моделей"
   ]
  },
  {
   "cell_type": "code",
   "execution_count": 21,
   "metadata": {},
   "outputs": [],
   "source": [
    "Y1 = data2.result\n",
    "X1 = data2[['significance']] "
   ]
  },
  {
   "cell_type": "code",
   "execution_count": 22,
   "metadata": {},
   "outputs": [
    {
     "data": {
      "text/plain": [
       "LogisticRegression(C=1.0, class_weight=None, dual=False, fit_intercept=True,\n",
       "          intercept_scaling=1, max_iter=100, multi_class='ovr', n_jobs=1,\n",
       "          penalty='l2', random_state=None, solver='liblinear', tol=0.0001,\n",
       "          verbose=0, warm_start=False)"
      ]
     },
     "execution_count": 22,
     "metadata": {},
     "output_type": "execute_result"
    }
   ],
   "source": [
    "X1_train, X1_val, Y1_train, Y1_val = train_test_split(X1, Y1, test_size = 0.3, random_state=42)\n",
    "model1 = LogisticRegression()\n",
    "model1.fit(X1_train, Y1_train)"
   ]
  },
  {
   "cell_type": "code",
   "execution_count": 23,
   "metadata": {},
   "outputs": [],
   "source": [
    "Y1_predicted = model1.predict(X1_val)\n",
    "significance_accuracy = accuracy_score(Y1_val,Y1_predicted)"
   ]
  },
  {
   "cell_type": "code",
   "execution_count": 24,
   "metadata": {},
   "outputs": [],
   "source": [
    "Y2 = data2.result\n",
    "X2 = data2['study_area']"
   ]
  },
  {
   "cell_type": "code",
   "execution_count": 25,
   "metadata": {},
   "outputs": [
    {
     "data": {
      "text/plain": [
       "LogisticRegression(C=1.0, class_weight=None, dual=False, fit_intercept=True,\n",
       "          intercept_scaling=1, max_iter=100, multi_class='ovr', n_jobs=1,\n",
       "          penalty='l2', random_state=None, solver='liblinear', tol=0.0001,\n",
       "          verbose=0, warm_start=False)"
      ]
     },
     "execution_count": 25,
     "metadata": {},
     "output_type": "execute_result"
    }
   ],
   "source": [
    "X2_train, X2_val, Y2_train, Y2_val = train_test_split(X2, Y2, test_size = 0.3, random_state=42)\n",
    "model2 = LogisticRegression()\n",
    "model2.fit(X2_train[:, np.newaxis], Y2_train)"
   ]
  },
  {
   "cell_type": "code",
   "execution_count": 26,
   "metadata": {},
   "outputs": [],
   "source": [
    "Y2_predicted = model2.predict(X2_val[:, np.newaxis])\n",
    "study_accuracy = accuracy_score(Y2_val,Y2_predicted)"
   ]
  },
  {
   "cell_type": "code",
   "execution_count": 27,
   "metadata": {},
   "outputs": [],
   "source": [
    "Y3 = data2.result\n",
    "X3 = data2[['casualities']]"
   ]
  },
  {
   "cell_type": "code",
   "execution_count": 28,
   "metadata": {},
   "outputs": [
    {
     "data": {
      "text/plain": [
       "LogisticRegression(C=1.0, class_weight=None, dual=False, fit_intercept=True,\n",
       "          intercept_scaling=1, max_iter=100, multi_class='ovr', n_jobs=1,\n",
       "          penalty='l2', random_state=None, solver='liblinear', tol=0.0001,\n",
       "          verbose=0, warm_start=False)"
      ]
     },
     "execution_count": 28,
     "metadata": {},
     "output_type": "execute_result"
    }
   ],
   "source": [
    "X3_train, X3_val, Y3_train, Y3_val = train_test_split(X3, Y3, test_size = 0.3, random_state=42)\n",
    "model3 = LogisticRegression()\n",
    "model3.fit(X3_train, Y3_train)"
   ]
  },
  {
   "cell_type": "code",
   "execution_count": 29,
   "metadata": {},
   "outputs": [],
   "source": [
    "Y3_predicted = model3.predict(X3_val)\n",
    "casualities_acuracy = accuracy_score(Y3_val,Y3_predicted)"
   ]
  },
  {
   "cell_type": "code",
   "execution_count": 30,
   "metadata": {},
   "outputs": [],
   "source": [
    "Y4 = data2.result\n",
    "X4 = data2[['core_area']] "
   ]
  },
  {
   "cell_type": "code",
   "execution_count": 31,
   "metadata": {},
   "outputs": [
    {
     "data": {
      "text/plain": [
       "LogisticRegression(C=1.0, class_weight=None, dual=False, fit_intercept=True,\n",
       "          intercept_scaling=1, max_iter=100, multi_class='ovr', n_jobs=1,\n",
       "          penalty='l2', random_state=None, solver='liblinear', tol=0.0001,\n",
       "          verbose=0, warm_start=False)"
      ]
     },
     "execution_count": 31,
     "metadata": {},
     "output_type": "execute_result"
    }
   ],
   "source": [
    "X4_train, X4_val, Y4_train, Y4_val = train_test_split(X4, Y4, test_size = 0.3, random_state=42)\n",
    "model4 = LogisticRegression()\n",
    "model4.fit(X4_train, Y4_train)"
   ]
  },
  {
   "cell_type": "code",
   "execution_count": 32,
   "metadata": {},
   "outputs": [],
   "source": [
    "Y4_predicted = model4.predict(X4_val)\n",
    "core_accuracy = accuracy_score(Y4_val,Y4_predicted)"
   ]
  },
  {
   "cell_type": "code",
   "execution_count": 33,
   "metadata": {},
   "outputs": [],
   "source": [
    "Y5 = data2.result\n",
    "X5 = data2[['duration']]"
   ]
  },
  {
   "cell_type": "code",
   "execution_count": 34,
   "metadata": {},
   "outputs": [
    {
     "data": {
      "text/plain": [
       "LogisticRegression(C=1.0, class_weight=None, dual=False, fit_intercept=True,\n",
       "          intercept_scaling=1, max_iter=100, multi_class='ovr', n_jobs=1,\n",
       "          penalty='l2', random_state=None, solver='liblinear', tol=0.0001,\n",
       "          verbose=0, warm_start=False)"
      ]
     },
     "execution_count": 34,
     "metadata": {},
     "output_type": "execute_result"
    }
   ],
   "source": [
    "X5_train, X5_val, Y5_train, Y5_val = train_test_split(X5, Y5, test_size = 0.3, random_state=42)\n",
    "model5 = LogisticRegression()\n",
    "model5.fit(X5_train, Y5_train)"
   ]
  },
  {
   "cell_type": "code",
   "execution_count": 35,
   "metadata": {},
   "outputs": [],
   "source": [
    "Y5_predicted = model5.predict(X5_val)\n",
    "duration_accuracy = accuracy_score(Y5_val,Y5_predicted)"
   ]
  },
  {
   "cell_type": "markdown",
   "metadata": {},
   "source": [
    "# I'm a stupid bitch / get_dummies"
   ]
  },
  {
   "cell_type": "code",
   "execution_count": 36,
   "metadata": {},
   "outputs": [],
   "source": [
    "data2 = pd.get_dummies(data2, columns=['battle_type', 'state']) \n",
    "# теперь преобразовываем номинальные признаки тоже, чтобы они могли участвовать в классификационной модели"
   ]
  },
  {
   "cell_type": "code",
   "execution_count": 37,
   "metadata": {},
   "outputs": [
    {
     "name": "stdout",
     "output_type": "stream",
     "text": [
      "<class 'pandas.core.frame.DataFrame'>\n",
      "Int64Index: 334 entries, 0 to 379\n",
      "Data columns (total 59 columns):\n",
      "cwsac_id                             334 non-null object\n",
      "battle_name                          334 non-null object\n",
      "start_date                           334 non-null object\n",
      "end_date                             334 non-null object\n",
      "result                               334 non-null object\n",
      "duration                             334 non-null float64\n",
      "casualities                          334 non-null float64\n",
      "significance                         334 non-null int64\n",
      "study_area                           334 non-null float64\n",
      "core_area                            334 non-null float64\n",
      "lat                                  334 non-null float64\n",
      "long                                 334 non-null float64\n",
      "battle_type_Action                   334 non-null uint8\n",
      "battle_type_Advance & Siege          334 non-null uint8\n",
      "battle_type_Assault                  334 non-null uint8\n",
      "battle_type_Attack                   334 non-null uint8\n",
      "battle_type_Battle                   334 non-null uint8\n",
      "battle_type_Bombardment              334 non-null uint8\n",
      "battle_type_Bombardment & Capture    334 non-null uint8\n",
      "battle_type_Capture                  334 non-null uint8\n",
      "battle_type_Combat                   334 non-null uint8\n",
      "battle_type_Demonstration            334 non-null uint8\n",
      "battle_type_Engagement               334 non-null uint8\n",
      "battle_type_Expedition               334 non-null uint8\n",
      "battle_type_Massacre                 334 non-null uint8\n",
      "battle_type_Naval                    334 non-null uint8\n",
      "battle_type_Naval Operations         334 non-null uint8\n",
      "battle_type_Occupation               334 non-null uint8\n",
      "battle_type_Operation                334 non-null uint8\n",
      "battle_type_Recapture                334 non-null uint8\n",
      "battle_type_Siege                    334 non-null uint8\n",
      "battle_type_Siege & Capture          334 non-null uint8\n",
      "battle_type_Skirmish                 334 non-null uint8\n",
      "state_AL                             334 non-null uint8\n",
      "state_AR                             334 non-null uint8\n",
      "state_CO                             334 non-null uint8\n",
      "state_DC                             334 non-null uint8\n",
      "state_FL                             334 non-null uint8\n",
      "state_GA                             334 non-null uint8\n",
      "state_ID                             334 non-null uint8\n",
      "state_IN                             334 non-null uint8\n",
      "state_KS                             334 non-null uint8\n",
      "state_KY                             334 non-null uint8\n",
      "state_LA                             334 non-null uint8\n",
      "state_MD                             334 non-null uint8\n",
      "state_MN                             334 non-null uint8\n",
      "state_MO                             334 non-null uint8\n",
      "state_MS                             334 non-null uint8\n",
      "state_NC                             334 non-null uint8\n",
      "state_ND                             334 non-null uint8\n",
      "state_NM                             334 non-null uint8\n",
      "state_OH                             334 non-null uint8\n",
      "state_OK                             334 non-null uint8\n",
      "state_PA                             334 non-null uint8\n",
      "state_SC                             334 non-null uint8\n",
      "state_TN                             334 non-null uint8\n",
      "state_TX                             334 non-null uint8\n",
      "state_VA                             334 non-null uint8\n",
      "state_WV                             334 non-null uint8\n",
      "dtypes: float64(6), int64(1), object(5), uint8(47)\n",
      "memory usage: 59.3+ KB\n"
     ]
    }
   ],
   "source": [
    "data2.info()"
   ]
  },
  {
   "cell_type": "code",
   "execution_count": 38,
   "metadata": {},
   "outputs": [],
   "source": [
    "Y6 = data2.result\n",
    "X6 = data2[['battle_type_Action', \n",
    "           'battle_type_Advance & Siege', \n",
    "           'battle_type_Assault', \n",
    "           'battle_type_Attack', \n",
    "           'battle_type_Battle',\n",
    "           'battle_type_Bombardment',\n",
    "           'battle_type_Bombardment & Capture',\n",
    "           'battle_type_Capture',\n",
    "           'battle_type_Combat',\n",
    "           'battle_type_Demonstration', \n",
    "           'battle_type_Engagement',\n",
    "           'battle_type_Expedition',\n",
    "           'battle_type_Massacre',\n",
    "           'battle_type_Naval',\n",
    "           'battle_type_Naval Operations',\n",
    "           'battle_type_Occupation',\n",
    "           'battle_type_Operation',\n",
    "           'battle_type_Recapture',\n",
    "           'battle_type_Siege',\n",
    "           'battle_type_Siege & Capture',\n",
    "           'battle_type_Skirmish'\n",
    "]] #0.5346534653465347"
   ]
  },
  {
   "cell_type": "code",
   "execution_count": 39,
   "metadata": {},
   "outputs": [
    {
     "data": {
      "text/plain": [
       "LogisticRegression(C=1.0, class_weight=None, dual=False, fit_intercept=True,\n",
       "          intercept_scaling=1, max_iter=100, multi_class='ovr', n_jobs=1,\n",
       "          penalty='l2', random_state=None, solver='liblinear', tol=0.0001,\n",
       "          verbose=0, warm_start=False)"
      ]
     },
     "execution_count": 39,
     "metadata": {},
     "output_type": "execute_result"
    }
   ],
   "source": [
    "X6_train, X6_val, Y6_train, Y6_val = train_test_split(X6, Y6, test_size = 0.3, random_state=42)\n",
    "model6 = LogisticRegression()\n",
    "model6.fit(X6_train, Y6_train)"
   ]
  },
  {
   "cell_type": "code",
   "execution_count": 40,
   "metadata": {},
   "outputs": [],
   "source": [
    "Y6_predicted = model6.predict(X6_val)\n",
    "type_accuracy = accuracy_score(Y6_val,Y6_predicted)"
   ]
  },
  {
   "cell_type": "code",
   "execution_count": 41,
   "metadata": {},
   "outputs": [],
   "source": [
    "Y7 = data2.result\n",
    "X7 = data2[['state_AL',\n",
    "           'state_AR',\n",
    "           'state_CO',\n",
    "           'state_DC',\n",
    "           'state_FL',\n",
    "           'state_GA',\n",
    "           'state_ID',\n",
    "           'state_IN',\n",
    "           'state_KS',\n",
    "           'state_KY',\n",
    "           'state_LA',\n",
    "           'state_MD',\n",
    "           'state_MN',\n",
    "           'state_MO',\n",
    "           'state_MS',\n",
    "           'state_NC',\n",
    "           'state_ND',\n",
    "           'state_NM',\n",
    "           'state_OH',\n",
    "           'state_OK',\n",
    "           'state_PA',\n",
    "           'state_SC',\n",
    "           'state_TN',\n",
    "           'state_TX',\n",
    "           'state_VA',\n",
    "           'state_WV',\n",
    "]]"
   ]
  },
  {
   "cell_type": "code",
   "execution_count": 42,
   "metadata": {},
   "outputs": [
    {
     "data": {
      "text/plain": [
       "LogisticRegression(C=1.0, class_weight=None, dual=False, fit_intercept=True,\n",
       "          intercept_scaling=1, max_iter=100, multi_class='ovr', n_jobs=1,\n",
       "          penalty='l2', random_state=None, solver='liblinear', tol=0.0001,\n",
       "          verbose=0, warm_start=False)"
      ]
     },
     "execution_count": 42,
     "metadata": {},
     "output_type": "execute_result"
    }
   ],
   "source": [
    "X7_train, X7_val, Y7_train, Y7_val = train_test_split(X7, Y7, test_size = 0.3, random_state=42)\n",
    "model7 = LogisticRegression()\n",
    "model7.fit(X7_train, Y7_train)"
   ]
  },
  {
   "cell_type": "code",
   "execution_count": 43,
   "metadata": {},
   "outputs": [],
   "source": [
    "Y7_predicted = model7.predict(X7_val)\n",
    "state_accuracy = accuracy_score(Y7_val,Y7_predicted)"
   ]
  },
  {
   "cell_type": "code",
   "execution_count": 44,
   "metadata": {},
   "outputs": [],
   "source": [
    "Y8 = data2.result\n",
    "X8 = data2[['long', 'lat']]"
   ]
  },
  {
   "cell_type": "code",
   "execution_count": 45,
   "metadata": {},
   "outputs": [
    {
     "data": {
      "text/plain": [
       "LogisticRegression(C=1.0, class_weight=None, dual=False, fit_intercept=True,\n",
       "          intercept_scaling=1, max_iter=100, multi_class='ovr', n_jobs=1,\n",
       "          penalty='l2', random_state=None, solver='liblinear', tol=0.0001,\n",
       "          verbose=0, warm_start=False)"
      ]
     },
     "execution_count": 45,
     "metadata": {},
     "output_type": "execute_result"
    }
   ],
   "source": [
    "X8_train, X8_val, Y8_train, Y8_val = train_test_split(X8, Y8, test_size = 0.3, random_state=42)\n",
    "model8 = LogisticRegression()\n",
    "model8.fit(X8_train, Y8_train)"
   ]
  },
  {
   "cell_type": "code",
   "execution_count": 46,
   "metadata": {},
   "outputs": [],
   "source": [
    "Y8_predicted = model8.predict(X8_val)\n",
    "long_lat_accuracy = accuracy_score(Y8_val,Y8_predicted)"
   ]
  },
  {
   "cell_type": "code",
   "execution_count": 47,
   "metadata": {},
   "outputs": [
    {
     "name": "stdout",
     "output_type": "stream",
     "text": [
      "<class 'pandas.core.frame.DataFrame'>\n",
      "Int64Index: 334 entries, 0 to 379\n",
      "Data columns (total 59 columns):\n",
      "cwsac_id                             334 non-null object\n",
      "battle_name                          334 non-null object\n",
      "start_date                           334 non-null object\n",
      "end_date                             334 non-null object\n",
      "result                               334 non-null object\n",
      "duration                             334 non-null float64\n",
      "casualities                          334 non-null float64\n",
      "significance                         334 non-null int64\n",
      "study_area                           334 non-null float64\n",
      "core_area                            334 non-null float64\n",
      "lat                                  334 non-null float64\n",
      "long                                 334 non-null float64\n",
      "battle_type_Action                   334 non-null uint8\n",
      "battle_type_Advance & Siege          334 non-null uint8\n",
      "battle_type_Assault                  334 non-null uint8\n",
      "battle_type_Attack                   334 non-null uint8\n",
      "battle_type_Battle                   334 non-null uint8\n",
      "battle_type_Bombardment              334 non-null uint8\n",
      "battle_type_Bombardment & Capture    334 non-null uint8\n",
      "battle_type_Capture                  334 non-null uint8\n",
      "battle_type_Combat                   334 non-null uint8\n",
      "battle_type_Demonstration            334 non-null uint8\n",
      "battle_type_Engagement               334 non-null uint8\n",
      "battle_type_Expedition               334 non-null uint8\n",
      "battle_type_Massacre                 334 non-null uint8\n",
      "battle_type_Naval                    334 non-null uint8\n",
      "battle_type_Naval Operations         334 non-null uint8\n",
      "battle_type_Occupation               334 non-null uint8\n",
      "battle_type_Operation                334 non-null uint8\n",
      "battle_type_Recapture                334 non-null uint8\n",
      "battle_type_Siege                    334 non-null uint8\n",
      "battle_type_Siege & Capture          334 non-null uint8\n",
      "battle_type_Skirmish                 334 non-null uint8\n",
      "state_AL                             334 non-null uint8\n",
      "state_AR                             334 non-null uint8\n",
      "state_CO                             334 non-null uint8\n",
      "state_DC                             334 non-null uint8\n",
      "state_FL                             334 non-null uint8\n",
      "state_GA                             334 non-null uint8\n",
      "state_ID                             334 non-null uint8\n",
      "state_IN                             334 non-null uint8\n",
      "state_KS                             334 non-null uint8\n",
      "state_KY                             334 non-null uint8\n",
      "state_LA                             334 non-null uint8\n",
      "state_MD                             334 non-null uint8\n",
      "state_MN                             334 non-null uint8\n",
      "state_MO                             334 non-null uint8\n",
      "state_MS                             334 non-null uint8\n",
      "state_NC                             334 non-null uint8\n",
      "state_ND                             334 non-null uint8\n",
      "state_NM                             334 non-null uint8\n",
      "state_OH                             334 non-null uint8\n",
      "state_OK                             334 non-null uint8\n",
      "state_PA                             334 non-null uint8\n",
      "state_SC                             334 non-null uint8\n",
      "state_TN                             334 non-null uint8\n",
      "state_TX                             334 non-null uint8\n",
      "state_VA                             334 non-null uint8\n",
      "state_WV                             334 non-null uint8\n",
      "dtypes: float64(6), int64(1), object(5), uint8(47)\n",
      "memory usage: 59.3+ KB\n"
     ]
    }
   ],
   "source": [
    "data2.info()"
   ]
  },
  {
   "cell_type": "code",
   "execution_count": 48,
   "metadata": {},
   "outputs": [],
   "source": [
    "Y111 = data2.result\n",
    "X111 = data2[['duration', \n",
    "           'casualities', \n",
    "           'significance',\n",
    "           'study_area', \n",
    "           'core_area', \n",
    "           'lat', \n",
    "           'long',\n",
    "           'battle_type_Action', \n",
    "           'battle_type_Advance & Siege', \n",
    "           'battle_type_Assault', \n",
    "           'battle_type_Attack', \n",
    "           'battle_type_Battle',\n",
    "           'battle_type_Bombardment',\n",
    "           'battle_type_Bombardment & Capture',\n",
    "           'battle_type_Capture',\n",
    "           'battle_type_Combat',\n",
    "           'battle_type_Demonstration', \n",
    "           'battle_type_Engagement',\n",
    "           'battle_type_Expedition',\n",
    "           'battle_type_Massacre',\n",
    "           'battle_type_Naval',\n",
    "           'battle_type_Naval Operations',\n",
    "           'battle_type_Occupation',\n",
    "           'battle_type_Operation',\n",
    "           'battle_type_Recapture',\n",
    "           'battle_type_Siege',\n",
    "           'battle_type_Siege & Capture',\n",
    "           'battle_type_Skirmish',\n",
    "           'state_AL',\n",
    "           'state_AR',\n",
    "           'state_CO',\n",
    "           'state_DC',\n",
    "           'state_FL',\n",
    "           'state_GA',\n",
    "           'state_ID',\n",
    "           'state_IN',\n",
    "           'state_KS',\n",
    "           'state_KY',\n",
    "           'state_LA',\n",
    "           'state_MD',\n",
    "           'state_MN',\n",
    "           'state_MO',\n",
    "           'state_MS',\n",
    "           'state_NC',\n",
    "           'state_ND',\n",
    "           'state_NM',\n",
    "           'state_OH',\n",
    "           'state_OK',\n",
    "           'state_PA',\n",
    "           'state_SC',\n",
    "           'state_TN',\n",
    "           'state_TX',\n",
    "           'state_VA',\n",
    "           'state_WV',\n",
    "]]"
   ]
  },
  {
   "cell_type": "code",
   "execution_count": 49,
   "metadata": {},
   "outputs": [
    {
     "data": {
      "text/plain": [
       "LogisticRegression(C=1.0, class_weight=None, dual=False, fit_intercept=True,\n",
       "          intercept_scaling=1, max_iter=100, multi_class='ovr', n_jobs=1,\n",
       "          penalty='l2', random_state=None, solver='liblinear', tol=0.0001,\n",
       "          verbose=0, warm_start=False)"
      ]
     },
     "execution_count": 49,
     "metadata": {},
     "output_type": "execute_result"
    }
   ],
   "source": [
    "X111_train, X111_val, Y111_train, Y111_val = train_test_split(X111, Y111, test_size = 0.3, random_state=42)\n",
    "model11 = LogisticRegression()\n",
    "model11.fit(X111_train, Y111_train)"
   ]
  },
  {
   "cell_type": "code",
   "execution_count": 50,
   "metadata": {},
   "outputs": [],
   "source": [
    "Y111_predicted = model11.predict(X111_val)\n",
    "total_accuracy = accuracy_score(Y111_val,Y111_predicted)"
   ]
  },
  {
   "cell_type": "code",
   "execution_count": 51,
   "metadata": {},
   "outputs": [],
   "source": [
    "Y10 = data2.result\n",
    "X10 = data2[['duration', \n",
    "           'casualities', \n",
    "           'battle_type_Action', \n",
    "           'battle_type_Advance & Siege', \n",
    "           'battle_type_Assault', \n",
    "           'battle_type_Attack', \n",
    "           'battle_type_Battle',\n",
    "           'battle_type_Bombardment',\n",
    "           'battle_type_Bombardment & Capture',\n",
    "           'battle_type_Capture',\n",
    "           'battle_type_Combat',\n",
    "           'battle_type_Demonstration', \n",
    "           'battle_type_Engagement',\n",
    "           'battle_type_Expedition',\n",
    "           'battle_type_Massacre',\n",
    "           'battle_type_Naval',\n",
    "           'battle_type_Naval Operations',\n",
    "           'battle_type_Occupation',\n",
    "           'battle_type_Operation',\n",
    "           'battle_type_Recapture',\n",
    "           'battle_type_Siege',\n",
    "           'battle_type_Siege & Capture',\n",
    "           'battle_type_Skirmish',\n",
    "           'state_AL',\n",
    "           'state_AR',\n",
    "           'state_CO',\n",
    "           'state_DC',\n",
    "           'state_FL',\n",
    "           'state_GA',\n",
    "           'state_ID',\n",
    "           'state_IN',\n",
    "           'state_KS',\n",
    "           'state_KY',\n",
    "           'state_LA',\n",
    "           'state_MD',\n",
    "           'state_MN',\n",
    "           'state_MO',\n",
    "           'state_MS',\n",
    "           'state_NC',\n",
    "           'state_ND',\n",
    "           'state_NM',\n",
    "           'state_OH',\n",
    "           'state_OK',\n",
    "           'state_PA',\n",
    "           'state_SC',\n",
    "           'state_TN',\n",
    "           'state_TX',\n",
    "           'state_VA',\n",
    "           'state_WV',\n",
    "]]"
   ]
  },
  {
   "cell_type": "code",
   "execution_count": 52,
   "metadata": {},
   "outputs": [],
   "source": [
    "X10_train, X10_val, Y10_train, Y10_val = train_test_split(X10, Y10, test_size = 0.3, random_state=42)\n",
    "model10 = LogisticRegression()\n",
    "model10.fit(X10_train, Y10_train)\n",
    "\n",
    "Y10_predicted = model10.predict(X10_val)\n",
    "significant_accuracy = accuracy_score(Y10_val,Y10_predicted)"
   ]
  },
  {
   "cell_type": "code",
   "execution_count": 53,
   "metadata": {},
   "outputs": [],
   "source": [
    "Y12 = data2.result\n",
    "X12 = data2 [['significance',\n",
    "           'study_area', \n",
    "           'core_area', \n",
    "           'lat', \n",
    "           'long',\n",
    "]]"
   ]
  },
  {
   "cell_type": "code",
   "execution_count": 54,
   "metadata": {},
   "outputs": [
    {
     "data": {
      "text/plain": [
       "LogisticRegression(C=1.0, class_weight=None, dual=False, fit_intercept=True,\n",
       "          intercept_scaling=1, max_iter=100, multi_class='ovr', n_jobs=1,\n",
       "          penalty='l2', random_state=None, solver='liblinear', tol=0.0001,\n",
       "          verbose=0, warm_start=False)"
      ]
     },
     "execution_count": 54,
     "metadata": {},
     "output_type": "execute_result"
    }
   ],
   "source": [
    "X12_train, X12_val, Y12_train, Y12_val = train_test_split(X12, Y12, test_size = 0.3, random_state=42)\n",
    "model12 = LogisticRegression()\n",
    "model12.fit(X12_train, Y12_train)"
   ]
  },
  {
   "cell_type": "code",
   "execution_count": 55,
   "metadata": {},
   "outputs": [],
   "source": [
    "Y12_predicted = model12.predict(X12_val)\n",
    "insignificant_accuracy = accuracy_score(Y12_val,Y12_predicted)"
   ]
  },
  {
   "cell_type": "markdown",
   "metadata": {},
   "source": [
    "А теперь уже строим нормальные графики, которые с высокой вероятностью войдут в постер"
   ]
  },
  {
   "cell_type": "code",
   "execution_count": 56,
   "metadata": {},
   "outputs": [
    {
     "data": {
      "image/png": "[encoded data removed]",
      "text/plain": [
       "<Figure size 432x288 with 1 Axes>"
      ]
     },
     "metadata": {},
     "output_type": "display_data"
    }
   ],
   "source": [
    "sns.countplot(x=\"result\", palette=\"cool_r\", data=data2)\n",
    "plt.xlabel('Выигравшая сторона', fontsize=12)\n",
    "plt.ylabel('Число побед', fontsize=12)\n",
    "plt.title('Исход сражений в Гражданской войне в США', fontsize=14)\n",
    "plt.xticks(np.arange(3), ('США', 'Конфедерация', 'Ничейный исход'))\n",
    "plt.savefig('victory.png')"
   ]
  },
  {
   "cell_type": "markdown",
   "metadata": {},
   "source": [
    "casualities_acuracy, duration_accuracy, state_accuracy, long_lat_accuracy, \n",
    "     type_accuracy, significance_accuracy, study_accuracy, core_accuracy,"
   ]
  },
  {
   "cell_type": "code",
   "execution_count": 57,
   "metadata": {
    "scrolled": false
   },
   "outputs": [
    {
     "data": {
      "image/png": "[encoded data removed]",
      "text/plain": [
       "<Figure size 432x288 with 1 Axes>"
      ]
     },
     "metadata": {},
     "output_type": "display_data"
    },
    {
     "data": {
      "text/plain": [
       "<Figure size 432x288 with 0 Axes>"
      ]
     },
     "metadata": {},
     "output_type": "display_data"
    }
   ],
   "source": [
    "x = ['Все факторы', 'Объективные \\n факторы', 'Субъективные и \\n незначительные \\n факторы']\n",
    "y = [total_accuracy, significant_accuracy, insignificant_accuracy]\n",
    "colors = ('navy', 'indigo', 'slateblue')\n",
    "\n",
    "plt.barh(x, y, color = colors)\n",
    "\n",
    "plt.xlabel('accuracy', fontsize = 12)\n",
    "plt.title('Значения accuracy по общим категориям', fontsize = 14)\n",
    "\n",
    "plt.show()\n",
    "plt.savefig('mur.png')"
   ]
  },
  {
   "cell_type": "code",
   "execution_count": 58,
   "metadata": {},
   "outputs": [
    {
     "data": {
      "image/png": "[encoded data removed]",
      "text/plain": [
       "<Figure size 504x504 with 1 Axes>"
      ]
     },
     "metadata": {},
     "output_type": "display_data"
    }
   ],
   "source": [
    "x = ['Широта и долгота',\n",
    "     'Уровень значимости',\n",
    "     'Общая \\n площадь битвы',\n",
    "     'Потери сторон',\n",
    "     'Продолжительность \\n битвы', \n",
    "     'Штат', \n",
    "     'Тип битвы',\n",
    "     'Площадь \\n непосредственных \\n боевых действий'\n",
    "    ]\n",
    "y = [long_lat_accuracy,\n",
    "     significance_accuracy,\n",
    "     study_accuracy,casualities_acuracy,\n",
    "     duration_accuracy, \n",
    "     core_accuracy,\n",
    "     state_accuracy, \n",
    "     type_accuracy,\n",
    "    ]\n",
    "\n",
    "plt.figure(figsize = (7,7))\n",
    "colours = ['indigo', 'purple', 'rebeccapurple','navy', 'mediumslateblue',  'blue', 'cornflowerblue', 'lightsteelblue']\n",
    "plt.xlabel('accuracy', fontsize = 12)\n",
    "plt.title('Значения accuracy по признакам', fontsize = 16)\n",
    "\n",
    "plt.barh(x, y, color=colours)\n",
    "plt.show()"
   ]
  },
  {
   "cell_type": "code",
   "execution_count": 59,
   "metadata": {},
   "outputs": [
    {
     "data": {
      "text/plain": [
       "Union           165\n",
       "Confederate     105\n",
       "Inconclusive     64\n",
       "Name: result, dtype: int64"
      ]
     },
     "execution_count": 59,
     "metadata": {},
     "output_type": "execute_result"
    }
   ],
   "source": [
    "data2['result'].value_counts(sort=True)"
   ]
  },
  {
   "cell_type": "code",
   "execution_count": 60,
   "metadata": {},
   "outputs": [
    {
     "data": {
      "image/png": "[encoded data removed]",
      "text/plain": [
       "<Figure size 504x504 with 1 Axes>"
      ]
     },
     "metadata": {},
     "output_type": "display_data"
    }
   ],
   "source": [
    "slices = [165,105, 64]\n",
    "\n",
    "victory = ['США', 'Конфедерация', 'Ничейный исход']\n",
    "\n",
    "plt.figure(figsize = (7,7))\n",
    "cols = ['skyblue', 'crimson', 'grey']\n",
    "plt.pie(slices, labels=victory, colors=cols, \n",
    "        autopct='%1.1f%%', textprops={'fontsize': 14}\n",
    "       )\n",
    "plt.title('Исход сражений в Гражданской войне в США', fontsize=14)\n",
    "plt.legend(loc='upper right')\n",
    "plt.savefig('result.png')\n"
   ]
  },
  {
   "cell_type": "code",
   "execution_count": 61,
   "metadata": {},
   "outputs": [
    {
     "data": {
      "image/png": "[encoded data removed]",
      "text/plain": [
       "<Figure size 432x288 with 1 Axes>"
      ]
     },
     "metadata": {},
     "output_type": "display_data"
    }
   ],
   "source": [
    "a = 15\n",
    "b = 20\n",
    "x1 = ['a', 'b']\n",
    "y1 = [a, b]\n",
    "colors1 =['r', 'cyan']\n",
    "plt.barh(x1, y1, color = colors1)\n",
    "plt.show()"
   ]
  },
  {
   "cell_type": "code",
   "execution_count": 62,
   "metadata": {},
   "outputs": [
    {
     "name": "stdout",
     "output_type": "stream",
     "text": [
      "0.6039603960396039\n"
     ]
    }
   ],
   "source": [
    "print(total_accuracy)"
   ]
  },
  {
   "cell_type": "code",
   "execution_count": 63,
   "metadata": {},
   "outputs": [
    {
     "name": "stdout",
     "output_type": "stream",
     "text": [
      "0.6336633663366337\n"
     ]
    }
   ],
   "source": [
    "print(insignificant_accuracy)"
   ]
  },
  {
   "cell_type": "code",
   "execution_count": null,
   "metadata": {},
   "outputs": [],
   "source": []
  },
  {
   "cell_type": "code",
   "execution_count": null,
   "metadata": {},
   "outputs": [],
   "source": []
  }
 ],
 "metadata": {
  "kernelspec": {
   "display_name": "Python 3",
   "language": "python",
   "name": "python3"
  },
  "language_info": {
   "codemirror_mode": {
    "name": "ipython",
    "version": 3
   },
   "file_extension": ".py",
   "mimetype": "text/x-python",
   "name": "python",
   "nbconvert_exporter": "python",
   "pygments_lexer": "ipython3",
   "version": "3.6.5"
  }
 },
 "nbformat": 4,
 "nbformat_minor": 2
}
